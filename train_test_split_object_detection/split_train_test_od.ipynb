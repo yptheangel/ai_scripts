{
 "cells": [
  {
   "cell_type": "markdown",
   "metadata": {},
   "source": [
    "# Create train and test split for Object Detection image dataset\n",
    "Currently only support Pascal VOC dataset. Modify as you wish to achieve your scenario."
   ]
  },
  {
   "cell_type": "markdown",
   "metadata": {},
   "source": [
    "### Why this?\n",
    "Online tutorials mostly do the split on the fly before going for training. In my opinion, it's not very practical. Yes, you can reproduce the train test split using a random seed, but imagine if you want to switch and compare the results between different deep learning frameworks.\n",
    "\n",
    "Then this script will be useful for you to presplit the image dataset to train and test splits."
   ]
  },
  {
   "cell_type": "code",
   "execution_count": 1,
   "metadata": {},
   "outputs": [],
   "source": [
    "import os\n",
    "import numpy as np\n",
    "from shutil import copyfile\n",
    "import os.path as osp"
   ]
  },
  {
   "cell_type": "code",
   "execution_count": 2,
   "metadata": {},
   "outputs": [],
   "source": [
    "dataset_folder = r\"C:\\Users\\ChooWilson\\Desktop\\full\""
   ]
  },
  {
   "cell_type": "code",
   "execution_count": 3,
   "metadata": {},
   "outputs": [],
   "source": [
    "# set \n",
    "train = 80\n",
    "validation = 20\n",
    "test = 0\n",
    "\n",
    "# It is always good to have train,val and test\n",
    "# train = 75\n",
    "# validation = 15\n",
    "# test = 10 "
   ]
  },
  {
   "cell_type": "code",
   "execution_count": 9,
   "metadata": {},
   "outputs": [
    {
     "name": "stdout",
     "output_type": "stream",
     "text": [
      "Label: full, Total train images: 2544, Total test images: 636\n"
     ]
    }
   ],
   "source": [
    "%time\n",
    "# Why convert to set type? set does not allow duplicates, you can perform operations between 2 sets and it is faster than list\n",
    "# Set random seed if you wan reproduce results of your random sampling, but most of the time.. No\n",
    "\n",
    "# rng_seed = 000\n",
    "# np.random.seed(rng_seed)\n",
    "for root, dirs, files in os.walk(dataset_folder, topdown=False):\n",
    "    filelist=np.asarray(files)\n",
    "    train_split_num= int((train / 100) * len(filelist))\n",
    "    shuffled=np.random.choice(filelist,train_split_num,replace=False)\n",
    "    trainSplit=set(shuffled)\n",
    "    fullDataset=set(filelist)\n",
    "    testSplit = fullDataset.difference(trainSplit)\n",
    "    print(\"Label: {}, Total train images: {}, Total test images: {}\".format(osp.basename(root), len(trainSplit), len(testSplit)))\n",
    "                      \n",
    "    trainSplit=list(trainSplit)\n",
    "    testSplit=list(testSplit)\n",
    "\n",
    "    dst = osp.join(\"train\")\n",
    "    os.makedirs(dst,exist_ok=False)\n",
    "    for img in trainSplit:          \n",
    "        copyfile(osp.join(root,img), osp.join(dst,img))\n",
    "        copyfile(osp.join(root,img[:-4]+\".xml\"), osp.join(dst,img[:-4]+\".xml\"))\n",
    "\n",
    "\n",
    "    dst = osp.join(\"test\")\n",
    "    os.makedirs(dst,exist_ok=False)\n",
    "    for img in testSplit:          \n",
    "        copyfile(osp.join(root,img), osp.join(dst,img))\n",
    "        copyfile(osp.join(root,img[:-4]+\".xml\"), osp.join(dst,img[:-4]+\".xml\"))"
   ]
  },
  {
   "cell_type": "code",
   "execution_count": null,
   "metadata": {},
   "outputs": [],
   "source": []
  }
 ],
 "metadata": {
  "kernelspec": {
   "display_name": "Python 3",
   "language": "python",
   "name": "python3"
  },
  "language_info": {
   "codemirror_mode": {
    "name": "ipython",
    "version": 3
   },
   "file_extension": ".py",
   "mimetype": "text/x-python",
   "name": "python",
   "nbconvert_exporter": "python",
   "pygments_lexer": "ipython3",
   "version": "3.7.0"
  }
 },
 "nbformat": 4,
 "nbformat_minor": 2
}
